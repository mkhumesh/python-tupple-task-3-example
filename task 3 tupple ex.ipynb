{
 "cells": [
  {
   "cell_type": "markdown",
   "id": "4b3f4b1b-850a-4c67-a9f9-0fb9a367f71b",
   "metadata": {},
   "source": [
    "# tuple"
   ]
  },
  {
   "cell_type": "code",
   "execution_count": 8,
   "id": "27ee8fc6-d72f-4b73-9336-b8cb7e34b051",
   "metadata": {},
   "outputs": [],
   "source": [
    "E1 = (1,56,58,56,5,4,58,4741,6,)"
   ]
  },
  {
   "cell_type": "code",
   "execution_count": 10,
   "id": "cc4acd90-a309-47fd-b99c-75f81031dbf3",
   "metadata": {},
   "outputs": [
    {
     "data": {
      "text/plain": [
       "tuple"
      ]
     },
     "execution_count": 10,
     "metadata": {},
     "output_type": "execute_result"
    }
   ],
   "source": [
    "type(E1)"
   ]
  },
  {
   "cell_type": "code",
   "execution_count": 13,
   "id": "ab557e7d-b384-47b2-b4d4-8fa1d6cd0f60",
   "metadata": {},
   "outputs": [
    {
     "data": {
      "text/plain": [
       "58"
      ]
     },
     "execution_count": 13,
     "metadata": {},
     "output_type": "execute_result"
    }
   ],
   "source": [
    "E1[2]"
   ]
  },
  {
   "cell_type": "code",
   "execution_count": 17,
   "id": "7d02c12b-115b-4b46-94a7-e7022b07afe9",
   "metadata": {},
   "outputs": [
    {
     "data": {
      "text/plain": [
       "6"
      ]
     },
     "execution_count": 17,
     "metadata": {},
     "output_type": "execute_result"
    }
   ],
   "source": [
    "E1[8]"
   ]
  },
  {
   "cell_type": "code",
   "execution_count": 23,
   "id": "dadb0767-cef0-4552-8aa0-db1ab16d6765",
   "metadata": {},
   "outputs": [
    {
     "data": {
      "text/plain": [
       "(1, 56, 58, 56, 5)"
      ]
     },
     "execution_count": 23,
     "metadata": {},
     "output_type": "execute_result"
    }
   ],
   "source": [
    "E1[0:5]"
   ]
  },
  {
   "cell_type": "markdown",
   "id": "b8f2f7af-3c08-4e95-9d48-f53937dcbccb",
   "metadata": {},
   "source": [
    "# count"
   ]
  },
  {
   "cell_type": "raw",
   "id": "ad0e9056-2251-49c4-9202-c837d850503b",
   "metadata": {},
   "source": [
    "Return the number of times the value 5 appears in the tuple\n",
    "# Definition and Usage\n",
    "The count() method returns the number of times a specified value appears in the tuple.\n",
    "###\n",
    "thistuple = (1, 3, 7, 8, 7, 5, 4, 6, 8, 5)\n",
    "\n",
    "x = thistuple.count(5)\n",
    "\n",
    "print(x)"
   ]
  },
  {
   "cell_type": "code",
   "execution_count": 49,
   "id": "1bfd7f96-54ae-4d6d-ad22-d7de28462907",
   "metadata": {},
   "outputs": [],
   "source": [
    "E2 = (1.25,1.0256,58,56,5,4,58,4.741,6,)"
   ]
  },
  {
   "cell_type": "code",
   "execution_count": 63,
   "id": "c5ff3788-8457-4f44-8734-cdbab7fe3dca",
   "metadata": {},
   "outputs": [],
   "source": [
    "T = E2.count(1.0256)"
   ]
  },
  {
   "cell_type": "code",
   "execution_count": 65,
   "id": "1da2abd2-9d2a-46a4-8edf-a2a94b764435",
   "metadata": {},
   "outputs": [
    {
     "data": {
      "text/plain": [
       "1"
      ]
     },
     "execution_count": 65,
     "metadata": {},
     "output_type": "execute_result"
    }
   ],
   "source": [
    "T"
   ]
  },
  {
   "cell_type": "markdown",
   "id": "1ecb5a48-6898-4f9d-a8a4-a022cf354c97",
   "metadata": {},
   "source": [
    "# index\n",
    "* https://www.w3schools.com/python/ref_tuple_index.asp\n",
    "* Search for the first occurrence of the value 8, and return its position"
   ]
  },
  {
   "cell_type": "raw",
   "id": "423c09fb-9b8f-40e0-922b-507259f86dfb",
   "metadata": {},
   "source": [
    "Definition and Usage\n",
    "The index() method finds the first occurrence of the specified value.\n",
    "The index() method raises an exception if the value is not found.\n",
    "\n",
    "thistuple = (1, 3, 7, 8, 7, 5, 4, 6, 8, 5)\n",
    "\n",
    "x = thistuple.index(8)\n",
    "\n",
    "print(x)\n"
   ]
  },
  {
   "cell_type": "code",
   "execution_count": 67,
   "id": "092ed8c2-49e4-4631-a3da-9ca03a60e5f6",
   "metadata": {},
   "outputs": [],
   "source": [
    "E3 = (\"car\",\"meter\",\"driver\",\"bike\",\"gadhi\")"
   ]
  },
  {
   "cell_type": "code",
   "execution_count": 85,
   "id": "1f032501-fa76-4253-a2a3-977fb95371e7",
   "metadata": {},
   "outputs": [
    {
     "data": {
      "text/plain": [
       "0"
      ]
     },
     "execution_count": 85,
     "metadata": {},
     "output_type": "execute_result"
    }
   ],
   "source": [
    "E3.index(\"car\")"
   ]
  },
  {
   "cell_type": "markdown",
   "id": "f8176af2-65cc-44aa-b448-da9c05e91f2c",
   "metadata": {},
   "source": [
    "# mix"
   ]
  },
  {
   "cell_type": "code",
   "execution_count": 110,
   "id": "3321c6ce-7cbf-421e-8608-3dbe5d3dfd30",
   "metadata": {},
   "outputs": [],
   "source": [
    "mix =(1,51,24,1451,451,51,'c', 'c++', 'python', 'html', 'javascript')"
   ]
  },
  {
   "cell_type": "code",
   "execution_count": 112,
   "id": "1f91aea8-a71f-423e-8434-6bddb8cf4599",
   "metadata": {},
   "outputs": [
    {
     "data": {
      "text/plain": [
       "(1, 51, 24, 1451, 451, 51, 'c', 'c++', 'python', 'html', 'javascript')"
      ]
     },
     "execution_count": 112,
     "metadata": {},
     "output_type": "execute_result"
    }
   ],
   "source": [
    "mix"
   ]
  },
  {
   "cell_type": "code",
   "execution_count": 114,
   "id": "99b58e35-18cb-4dce-ab11-1916c633c0e8",
   "metadata": {},
   "outputs": [
    {
     "data": {
      "text/plain": [
       "2"
      ]
     },
     "execution_count": 114,
     "metadata": {},
     "output_type": "execute_result"
    }
   ],
   "source": [
    "mix.count(51)"
   ]
  },
  {
   "cell_type": "code",
   "execution_count": 118,
   "id": "e89c3f59-747d-482e-b454-d7955cf61cea",
   "metadata": {},
   "outputs": [
    {
     "data": {
      "text/plain": [
       "1"
      ]
     },
     "execution_count": 118,
     "metadata": {},
     "output_type": "execute_result"
    }
   ],
   "source": [
    "mix.count('html')"
   ]
  },
  {
   "cell_type": "code",
   "execution_count": 122,
   "id": "1da2a227-3456-40fd-a45c-65695540c3c3",
   "metadata": {},
   "outputs": [
    {
     "data": {
      "text/plain": [
       "6"
      ]
     },
     "execution_count": 122,
     "metadata": {},
     "output_type": "execute_result"
    }
   ],
   "source": [
    "mix.index('c')"
   ]
  },
  {
   "cell_type": "code",
   "execution_count": 124,
   "id": "91164c63-9dec-4022-93be-7d5472aff6ee",
   "metadata": {},
   "outputs": [
    {
     "data": {
      "text/plain": [
       "4"
      ]
     },
     "execution_count": 124,
     "metadata": {},
     "output_type": "execute_result"
    }
   ],
   "source": [
    "mix.index(451)"
   ]
  },
  {
   "cell_type": "code",
   "execution_count": 127,
   "id": "f8ae9bf9-c0b8-49e7-ac44-16d367ee7597",
   "metadata": {},
   "outputs": [],
   "source": [
    "mixed =(1,1.25,2.5,51,24,1451,451,51)"
   ]
  },
  {
   "cell_type": "code",
   "execution_count": 129,
   "id": "84e14a70-f3dd-4e3c-87e6-08fb6ae3e782",
   "metadata": {},
   "outputs": [
    {
     "data": {
      "text/plain": [
       "(1, 1.25, 2.5, 51, 24, 1451, 451, 51)"
      ]
     },
     "execution_count": 129,
     "metadata": {},
     "output_type": "execute_result"
    }
   ],
   "source": [
    "mixed"
   ]
  },
  {
   "cell_type": "markdown",
   "id": "11b42dbd-da0a-4626-83e0-afc4240e616a",
   "metadata": {},
   "source": [
    "* https://www.britannica.com/topic/list-of-countries-1993160\n",
    "* https://www.nationsonline.org/oneworld/countries_of_the_world.htm#google_vignette"
   ]
  },
  {
   "cell_type": "code",
   "execution_count": 157,
   "id": "1244c8a4-1ee8-46ff-bb0f-bb9b6b3642a3",
   "metadata": {},
   "outputs": [],
   "source": [
    "country =('IND', 'Afghanistan','Italy','Angola','Austria','Dominica','Finland','Dominica')"
   ]
  },
  {
   "cell_type": "code",
   "execution_count": 159,
   "id": "a96735d1-cec3-4f31-9f6d-6c0e4d04668d",
   "metadata": {},
   "outputs": [
    {
     "data": {
      "text/plain": [
       "('IND',\n",
       " 'Afghanistan',\n",
       " 'Italy',\n",
       " 'Angola',\n",
       " 'Austria',\n",
       " 'Dominica',\n",
       " 'Finland',\n",
       " 'Dominica')"
      ]
     },
     "execution_count": 159,
     "metadata": {},
     "output_type": "execute_result"
    }
   ],
   "source": [
    "country"
   ]
  },
  {
   "cell_type": "code",
   "execution_count": 161,
   "id": "971b0f88-eb1c-4440-a0fc-c1eeeff78285",
   "metadata": {},
   "outputs": [
    {
     "data": {
      "text/plain": [
       "1"
      ]
     },
     "execution_count": 161,
     "metadata": {},
     "output_type": "execute_result"
    }
   ],
   "source": [
    "country.index('Afghanistan')"
   ]
  },
  {
   "cell_type": "code",
   "execution_count": 163,
   "id": "6a302fa1-906f-4505-beb2-90cd6cd41de2",
   "metadata": {},
   "outputs": [
    {
     "data": {
      "text/plain": [
       "2"
      ]
     },
     "execution_count": 163,
     "metadata": {},
     "output_type": "execute_result"
    }
   ],
   "source": [
    "country.count('Dominica')"
   ]
  },
  {
   "cell_type": "markdown",
   "id": "07aa995d-5513-427c-830e-39072ef2e464",
   "metadata": {},
   "source": [
    "* https://affairshub.in/newly-appointed-presidents-and-prime-ministers/\n",
    "* Newly Appointed Presidents and Prime Ministers in the World 2024"
   ]
  },
  {
   "cell_type": "code",
   "execution_count": 165,
   "id": "441dc174-1b39-4acf-8194-595a884dac83",
   "metadata": {},
   "outputs": [],
   "source": [
    "pm =( 'Narendra Modi','Manmohan Singh','Indira Gandhi','Vladimir Putin','Shehbaz Sharif')"
   ]
  },
  {
   "cell_type": "code",
   "execution_count": 167,
   "id": "e87294fc-069c-441d-b39a-97d6f21148e7",
   "metadata": {},
   "outputs": [
    {
     "data": {
      "text/plain": [
       "('Narendra Modi',\n",
       " 'Manmohan Singh',\n",
       " 'Indira Gandhi',\n",
       " 'Vladimir Putin',\n",
       " 'Shehbaz Sharif')"
      ]
     },
     "execution_count": 167,
     "metadata": {},
     "output_type": "execute_result"
    }
   ],
   "source": [
    "pm"
   ]
  },
  {
   "cell_type": "markdown",
   "id": "fdddcdf8-b6f6-413b-91ce-7338851e8b04",
   "metadata": {},
   "source": [
    "* https://www.nobroker.in/blog/richest-cities-in-india/\n",
    "* Are you curious about which cities in India boast unparalleled wealth and prosperity? Ever wondered what makes these urban gems stand out in the vast sea of Indian metropolises? Let's embark on an exciting expedition through India's top 5 richest cities in India and unravel the secrets behind their remarkable growth stories."
   ]
  },
  {
   "cell_type": "code",
   "execution_count": 173,
   "id": "33fa3bf8-2e9b-47d0-83e2-a1fd0121ffd7",
   "metadata": {},
   "outputs": [],
   "source": [
    "gdp = ( '1. Mumbai','2. Delhi','3. Bangalore','4. Hyderabad','5. Chennai')"
   ]
  },
  {
   "cell_type": "code",
   "execution_count": 175,
   "id": "56e00910-9cfc-447b-af08-35ec812e5a1b",
   "metadata": {},
   "outputs": [
    {
     "data": {
      "text/plain": [
       "('1. Mumbai', '2. Delhi', '3. Bangalore', '4. Hyderabad', '5. Chennai')"
      ]
     },
     "execution_count": 175,
     "metadata": {},
     "output_type": "execute_result"
    }
   ],
   "source": [
    "gdp"
   ]
  },
  {
   "cell_type": "code",
   "execution_count": null,
   "id": "f9a7b756-4481-4b06-b227-3df9bc3e30bf",
   "metadata": {},
   "outputs": [],
   "source": []
  }
 ],
 "metadata": {
  "kernelspec": {
   "display_name": "Python 3 (ipykernel)",
   "language": "python",
   "name": "python3"
  },
  "language_info": {
   "codemirror_mode": {
    "name": "ipython",
    "version": 3
   },
   "file_extension": ".py",
   "mimetype": "text/x-python",
   "name": "python",
   "nbconvert_exporter": "python",
   "pygments_lexer": "ipython3",
   "version": "3.12.4"
  }
 },
 "nbformat": 4,
 "nbformat_minor": 5
}
